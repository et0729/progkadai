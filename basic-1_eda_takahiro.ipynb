{
 "cells": [
  {
   "cell_type": "markdown",
   "metadata": {
    "id": "LeGoatSqKe8I"
   },
   "source": [
    "# Python のバージョンの確認\n",
    "\n",
    "　以下をやってみて、出力結果をそのままにして、このファイルに以下のように名前をつけて提出して下さい。私の名前でやってみると、「basic-1_saito_shiro.ipynb」とします。\n",
    "\n",
    "## Pythonがどこにあるのかを確認します。"
   ]
  },
  {
   "cell_type": "code",
   "execution_count": 10,
   "metadata": {
    "executionInfo": {
     "elapsed": 261,
     "status": "ok",
     "timestamp": 1633097171148,
     "user": {
      "displayName": "sa003333 sa003333",
      "photoUrl": "https://lh3.googleusercontent.com/a/default-user=s64",
      "userId": "01821658524397868180"
     },
     "user_tz": -540
    },
    "id": "r94mFlHMKe8L"
   },
   "outputs": [
    {
     "name": "stdout",
     "output_type": "stream",
     "text": [
      "C:\\Users\\edata\\anaconda3\\python.exe\n"
     ]
    }
   ],
   "source": [
    "!where python"
   ]
  },
  {
   "cell_type": "markdown",
   "metadata": {
    "id": "Py_8h5S8LXqb"
   },
   "source": [
    "上で示されたディレクトリを利用して、Pythonのヴァージョンを調べてみます。\n",
    "上で示されたディレクトリが、「/usr/hoge/fuga/Python3」だったら、「! /usr/hoge/fuga/Python3 -V」と書いて実行します。"
   ]
  },
  {
   "cell_type": "code",
   "execution_count": 3,
   "metadata": {
    "executionInfo": {
     "elapsed": 245,
     "status": "ok",
     "timestamp": 1633097375185,
     "user": {
      "displayName": "sa003333 sa003333",
      "photoUrl": "https://lh3.googleusercontent.com/a/default-user=s64",
      "userId": "01821658524397868180"
     },
     "user_tz": -540
    },
    "id": "8MjhY85IKe8M"
   },
   "outputs": [
    {
     "name": "stdout",
     "output_type": "stream",
     "text": [
      "Python 3.11.7\n"
     ]
    }
   ],
   "source": [
    "!C:\\Users\\edata\\anaconda3\\python.exe -V"
   ]
  },
  {
   "cell_type": "code",
   "execution_count": 8,
   "metadata": {},
   "outputs": [
    {
     "name": "stdout",
     "output_type": "stream",
     "text": [
      "Reinitialized existing Git repository in C:/Users/edata/anaconda3/繝励Ο繧ｰ繝ｩ繝溘Φ繧ｰ迚ｹ隲棒隱ｲ鬘�/.git/\n",
      "[main ce7a5a6] first commit\n",
      " 1 file changed, 3 deletions(-)\n"
     ]
    },
    {
     "name": "stderr",
     "output_type": "stream",
     "text": [
      "error: remote origin already exists.\n",
      "bash: line 1: /dev/tty: No such device or address\n",
      "error: failed to execute prompt script (exit code 1)\n",
      "fatal: could not read Username for 'https://github.com': No such file or directory\n"
     ]
    }
   ],
   "source": [
    "!echo \"# progkadai\" >> README.md\n",
    "!git init\n",
    "!git config --global user.email \"edatakahiro0729@gmail.com\"\n",
    "!git config --global user.name \"et0729\"\n",
    "!git add README.md\n",
    "!git commit -m \"first commit\"\n",
    "!git branch -M main\n",
    "!git remote add origin https://github.com/et0729/progkadai.git\n"
   ]
  },
  {
   "cell_type": "code",
   "execution_count": 11,
   "metadata": {},
   "outputs": [
    {
     "name": "stdout",
     "output_type": "stream",
     "text": [
      "branch 'main' set up to track 'origin/main'.\n"
     ]
    },
    {
     "name": "stderr",
     "output_type": "stream",
     "text": [
      "To https://github.com/et0729/progkadai.git\n",
      " * [new branch]      main -> main\n"
     ]
    }
   ],
   "source": [
    "!git push -u origin main"
   ]
  }
 ],
 "metadata": {
  "colab": {
   "collapsed_sections": [],
   "name": "basic-1.ipynb",
   "provenance": []
  },
  "kernelspec": {
   "display_name": "Python 3 (ipykernel)",
   "language": "python",
   "name": "python3"
  },
  "language_info": {
   "codemirror_mode": {
    "name": "ipython",
    "version": 3
   },
   "file_extension": ".py",
   "mimetype": "text/x-python",
   "name": "python",
   "nbconvert_exporter": "python",
   "pygments_lexer": "ipython3",
   "version": "3.11.7"
  },
  "varInspector": {
   "cols": {
    "lenName": 16,
    "lenType": 16,
    "lenVar": 40
   },
   "kernels_config": {
    "python": {
     "delete_cmd_postfix": "",
     "delete_cmd_prefix": "del ",
     "library": "var_list.py",
     "varRefreshCmd": "print(var_dic_list())"
    },
    "r": {
     "delete_cmd_postfix": ") ",
     "delete_cmd_prefix": "rm(",
     "library": "var_list.r",
     "varRefreshCmd": "cat(var_dic_list()) "
    }
   },
   "types_to_exclude": [
    "module",
    "function",
    "builtin_function_or_method",
    "instance",
    "_Feature"
   ],
   "window_display": true
  }
 },
 "nbformat": 4,
 "nbformat_minor": 1
}
